{
  "nbformat": 4,
  "nbformat_minor": 0,
  "metadata": {
    "colab": {
      "provenance": [],
      "authorship_tag": "ABX9TyNUBrrkwumrk8xLewykRkWJ",
      "include_colab_link": true
    },
    "kernelspec": {
      "name": "python3",
      "display_name": "Python 3"
    },
    "language_info": {
      "name": "python"
    }
  },
  "cells": [
    {
      "cell_type": "markdown",
      "metadata": {
        "id": "view-in-github",
        "colab_type": "text"
      },
      "source": [
        "<a href=\"https://colab.research.google.com/github/AxelMoroz/AxelMoroz/blob/main/Repaso_Python.ipynb\" target=\"_parent\"><img src=\"https://colab.research.google.com/assets/colab-badge.svg\" alt=\"Open In Colab\"/></a>"
      ]
    },
    {
      "cell_type": "markdown",
      "source": [
        "### **Repaso Python**"
      ],
      "metadata": {
        "id": "Jy3u-G2wjuS9"
      }
    },
    {
      "cell_type": "code",
      "source": [
        "x=5\n",
        "y=3.3\n",
        "nombre=\"alice\"\n",
        "bool=True"
      ],
      "metadata": {
        "id": "dVCOltKygIhs"
      },
      "execution_count": 3,
      "outputs": []
    },
    {
      "cell_type": "markdown",
      "source": [
        "# ***datos complejos***"
      ],
      "metadata": {
        "id": "KOP4JSk9gbOV"
      }
    },
    {
      "cell_type": "code",
      "execution_count": null,
      "metadata": {
        "id": "hFWfFfgrfopB"
      },
      "outputs": [],
      "source": [
        "lista = [1,2,3] #mutable\n",
        "tuple = (1,2,3) #inmutable\n",
        "diccionary = {\"clave1\":\"valor1\",\"clave2\":\"valor2\"}\n",
        "{1,2,3} #coleccion desordenada set\n",
        "frozenset ({1,2,3}) #coleccion desordenada de elementos unicos e inmutables"
      ]
    },
    {
      "cell_type": "markdown",
      "source": [
        "***Crear una lista con varios tipos de datos y acceder a sus elementos***\n",
        "# lista"
      ],
      "metadata": {
        "id": "KauRPN9dgHE4"
      }
    },
    {
      "cell_type": "code",
      "source": [
        "mi_lista = [1,\"texto\", 3.14, True]\n",
        "print(mi_lista[1])"
      ],
      "metadata": {
        "colab": {
          "base_uri": "https://localhost:8080/"
        },
        "id": "TN_XMLAdhfs5",
        "outputId": "6fe443d3-a2fa-4117-f485-26481c0553ac"
      },
      "execution_count": 5,
      "outputs": [
        {
          "output_type": "stream",
          "name": "stdout",
          "text": [
            "texto\n"
          ]
        }
      ]
    },
    {
      "cell_type": "code",
      "source": [
        "diccionary = {\"clave1\":\"valor1\",\"clave2\":\"valor2\"}\n",
        "print(diccionary[\"clave1\"])"
      ],
      "metadata": {
        "colab": {
          "base_uri": "https://localhost:8080/"
        },
        "id": "6WOjS1Whh06l",
        "outputId": "0eca6e45-53ce-4e74-ef2a-98d4efa32ebb"
      },
      "execution_count": 6,
      "outputs": [
        {
          "output_type": "stream",
          "name": "stdout",
          "text": [
            "valor1\n"
          ]
        }
      ]
    },
    {
      "cell_type": "markdown",
      "source": [
        "OPERADORES"
      ],
      "metadata": {
        "id": "YVyryDYHip_L"
      }
    },
    {
      "cell_type": "code",
      "source": [
        "OPERADORES\n",
        "+\n",
        "-\n",
        "*\n",
        "**\n",
        "/\n",
        "// #DIV ENTERA\n",
        "% #MODULO"
      ],
      "metadata": {
        "id": "o8P8hgtLiuSg"
      },
      "execution_count": null,
      "outputs": []
    },
    {
      "cell_type": "code",
      "source": [
        "Dada una variable, puedo asignarle un valor, escribiendo\n",
        "a = 5 # el operador igual a\n",
        "a += 4 # toma el valor actual de a y le suma 4 -> ahora vale 9\n",
        "a -= 3 # toma el valor actual de a y le resta 3 -> ahora vale 6\n",
        "a *= 2 # toma el valor actual de a y lo multiplica por 2 -> 12\n",
        "a /= 3\n",
        "a //=3\n",
        "a %= 3"
      ],
      "metadata": {
        "id": "4b_-1neOjDni"
      },
      "execution_count": null,
      "outputs": []
    },
    {
      "cell_type": "code",
      "source": [
        "Dada una variable, puedo asignarle un valor, escribiendo\n",
        "a = 5 # el operador igual a\n",
        "a += 4 # toma el valor actual de a y le suma 4 -> ahora vale 9\n",
        "a -= 3 # toma el valor actual de a y le resta 3 -> ahora vale 6\n",
        "a *= 2 # toma el valor actual de a y lo multiplica por 2 -> 12\n",
        "a /= 3\n",
        "a //=3\n",
        "a %= 3"
      ],
      "metadata": {
        "id": "hMvuJow7jP17"
      },
      "execution_count": null,
      "outputs": []
    },
    {
      "cell_type": "markdown",
      "source": [
        "and # evalúa si ambos operandos son True\n",
        "\n",
        "or # evalúa si al menos uno de los operandos es True\n",
        "\n",
        "not # cambia el valor del operando"
      ],
      "metadata": {
        "id": "Jw8JI2YVjbax"
      }
    },
    {
      "cell_type": "code",
      "source": [
        "Devuelve True o False dependiendo de si un elemento pertenece o no a una secuencia de datos\n",
        "\n",
        "IN\n",
        "\n",
        "NOT IN"
      ],
      "metadata": {
        "id": "8ROxIbPTjdr7"
      },
      "execution_count": null,
      "outputs": []
    }
  ]
}