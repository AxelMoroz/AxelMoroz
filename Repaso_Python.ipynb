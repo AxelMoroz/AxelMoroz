{
  "nbformat": 4,
  "nbformat_minor": 0,
  "metadata": {
    "colab": {
      "provenance": [],
      "authorship_tag": "ABX9TyNUEt05WV54l7mpY2MR3WCZ",
      "include_colab_link": true
    },
    "kernelspec": {
      "name": "python3",
      "display_name": "Python 3"
    },
    "language_info": {
      "name": "python"
    }
  },
  "cells": [
    {
      "cell_type": "markdown",
      "metadata": {
        "id": "view-in-github",
        "colab_type": "text"
      },
      "source": [
        "<a href=\"https://colab.research.google.com/github/AxelMoroz/AxelMoroz/blob/main/Repaso_Python.ipynb\" target=\"_parent\"><img src=\"https://colab.research.google.com/assets/colab-badge.svg\" alt=\"Open In Colab\"/></a>"
      ]
    },
    {
      "cell_type": "markdown",
      "source": [
        "### **Repaso Python**"
      ],
      "metadata": {
        "id": "Jy3u-G2wjuS9"
      }
    },
    {
      "cell_type": "code",
      "source": [
        "x=5\n",
        "y=3.3\n",
        "nombre=\"alice\"\n",
        "bool=True"
      ],
      "metadata": {
        "id": "dVCOltKygIhs"
      },
      "execution_count": 8,
      "outputs": []
    },
    {
      "cell_type": "markdown",
      "source": [
        "# ***datos complejos***"
      ],
      "metadata": {
        "id": "KOP4JSk9gbOV"
      }
    },
    {
      "cell_type": "code",
      "execution_count": 9,
      "metadata": {
        "colab": {
          "base_uri": "https://localhost:8080/"
        },
        "id": "hFWfFfgrfopB",
        "outputId": "3d5d4389-0c87-4a7d-b971-28ccc460ad43"
      },
      "outputs": [
        {
          "output_type": "execute_result",
          "data": {
            "text/plain": [
              "frozenset({1, 2, 3})"
            ]
          },
          "metadata": {},
          "execution_count": 9
        }
      ],
      "source": [
        "lista = [1,2,3] #mutable\n",
        "tuple = (1,2,3) #inmutable\n",
        "diccionary = {\"clave1\":\"valor1\",\"clave2\":\"valor2\"}\n",
        "{1,2,3} #coleccion desordenada set\n",
        "frozenset ({1,2,3}) #coleccion desordenada de elementos unicos e inmutables"
      ]
    },
    {
      "cell_type": "markdown",
      "source": [
        "***Crear una lista con varios tipos de datos y acceder a sus elementos***\n",
        "# lista"
      ],
      "metadata": {
        "id": "KauRPN9dgHE4"
      }
    },
    {
      "cell_type": "code",
      "source": [
        "mi_lista = [1,\"texto\", 3.14, True]\n",
        "print(mi_lista[1])"
      ],
      "metadata": {
        "colab": {
          "base_uri": "https://localhost:8080/"
        },
        "id": "TN_XMLAdhfs5",
        "outputId": "96a22b1f-9238-4274-dcb3-3fd3e047d676"
      },
      "execution_count": 10,
      "outputs": [
        {
          "output_type": "stream",
          "name": "stdout",
          "text": [
            "texto\n"
          ]
        }
      ]
    },
    {
      "cell_type": "code",
      "source": [
        "diccionary = {\"clave1\":\"valor1\",\"clave2\":\"valor2\"}\n",
        "print(diccionary[\"clave1\"])"
      ],
      "metadata": {
        "colab": {
          "base_uri": "https://localhost:8080/"
        },
        "id": "6WOjS1Whh06l",
        "outputId": "4d18c15e-71a2-49dc-9771-a8c7c2079396"
      },
      "execution_count": 11,
      "outputs": [
        {
          "output_type": "stream",
          "name": "stdout",
          "text": [
            "valor1\n"
          ]
        }
      ]
    },
    {
      "cell_type": "markdown",
      "source": [
        "OPERADORES"
      ],
      "metadata": {
        "id": "YVyryDYHip_L"
      }
    },
    {
      "cell_type": "code",
      "source": [
        "OPERADORES\n",
        "+\n",
        "-\n",
        "*\n",
        "**\n",
        "/\n",
        "// #DIV ENTERA\n",
        "% #MODULO"
      ],
      "metadata": {
        "colab": {
          "base_uri": "https://localhost:8080/",
          "height": 106
        },
        "id": "o8P8hgtLiuSg",
        "outputId": "4ec6e74b-5c10-43fe-c21e-7939478d6b78"
      },
      "execution_count": 12,
      "outputs": [
        {
          "output_type": "error",
          "ename": "SyntaxError",
          "evalue": "invalid syntax (ipython-input-51860479.py, line 2)",
          "traceback": [
            "\u001b[0;36m  File \u001b[0;32m\"/tmp/ipython-input-51860479.py\"\u001b[0;36m, line \u001b[0;32m2\u001b[0m\n\u001b[0;31m    +\u001b[0m\n\u001b[0m     ^\u001b[0m\n\u001b[0;31mSyntaxError\u001b[0m\u001b[0;31m:\u001b[0m invalid syntax\n"
          ]
        }
      ]
    },
    {
      "cell_type": "code",
      "source": [
        "Dada una variable, puedo asignarle un valor, escribiendo\n",
        "a = 5 # el operador igual a\n",
        "a += 4 # toma el valor actual de a y le suma 4 -> ahora vale 9\n",
        "a -= 3 # toma el valor actual de a y le resta 3 -> ahora vale 6\n",
        "a *= 2 # toma el valor actual de a y lo multiplica por 2 -> 12\n",
        "a /= 3\n",
        "a //=3\n",
        "a %= 3"
      ],
      "metadata": {
        "id": "4b_-1neOjDni"
      },
      "execution_count": null,
      "outputs": []
    },
    {
      "cell_type": "code",
      "source": [
        "Dada una variable, puedo asignarle un valor, escribiendo\n",
        "a = 5 # el operador igual a\n",
        "a += 4 # toma el valor actual de a y le suma 4 -> ahora vale 9\n",
        "a -= 3 # toma el valor actual de a y le resta 3 -> ahora vale 6\n",
        "a *= 2 # toma el valor actual de a y lo multiplica por 2 -> 12\n",
        "a /= 3\n",
        "a //=3\n",
        "a %= 3"
      ],
      "metadata": {
        "id": "hMvuJow7jP17"
      },
      "execution_count": null,
      "outputs": []
    },
    {
      "cell_type": "markdown",
      "source": [
        "and # evalúa si ambos operandos son True\n",
        "\n",
        "or # evalúa si al menos uno de los operandos es True\n",
        "\n",
        "not # cambia el valor del operando"
      ],
      "metadata": {
        "id": "Jw8JI2YVjbax"
      }
    },
    {
      "cell_type": "code",
      "source": [
        "Devuelve True o False dependiendo de si un elemento pertenece o no a una secuencia de datos\n",
        "\n",
        "IN\n",
        "\n",
        "NOT IN"
      ],
      "metadata": {
        "id": "8ROxIbPTjdr7"
      },
      "execution_count": null,
      "outputs": []
    },
    {
      "cell_type": "markdown",
      "source": [
        "<img src=\"https://drive.google.com/uc?id=1mobk1RnPua0SBvyAeogkkYo4MS0XkvFW\">\n",
        "\n"
      ],
      "metadata": {
        "id": "FsJD6C2Omjlj"
      }
    }
  ]
}